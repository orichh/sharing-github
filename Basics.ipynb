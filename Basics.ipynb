{
 "cells": [
  {
   "cell_type": "markdown",
   "metadata": {},
   "source": [
    "# Guided Project: Building Fast Queries on a CSV\n",
    "Dataset: https://www.kaggle.com/ionaskel/laptop-prices\n",
    "\n",
    "Background:\n",
    " - Take the perspective as the owner of an online laptop store\n",
    " - Want to build a way to answer business questions about inventory\n",
    "\n",
    "Objectives:\n",
    " - Create a class that represents our inventory.\n",
    " - Methods in that class will implement the queries to answer questions about inventory\n",
    " - Pre-process the inventory data to make queries run faster\n",
    " \n",
    "Queries to Answer:\n",
    "  - Given a laptop ID, find the corresponding data\n",
    "  - Given an amount of money, find whether there are two laptops whose total price is that given amount\n",
    "  - Identify all laptops whose price falls within a given budget"
   ]
  },
  {
   "cell_type": "markdown",
   "metadata": {},
   "source": [
    "# Step 1: Reading the Inventory\n",
    "1. Use the csv module to read the 'laptops.csv' file\n",
    "2. Separate the header row\n",
    "3. Separate the remaining rows"
   ]
  },
  {
   "cell_type": "code",
   "execution_count": 1,
   "metadata": {},
   "outputs": [
    {
     "name": "stdout",
     "output_type": "stream",
     "text": [
      "['Id', 'Company', 'Product', 'TypeName', 'Inches', 'ScreenResolution', 'Cpu', 'Ram', 'Memory', 'Gpu', 'OpSys', 'Weight', 'Price']\n",
      "\n",
      "[['7287764', 'Apple', 'Macbook Air', 'Ultrabook', '13.3', '1440x900', 'Intel Core i5 1.8GHz', '8GB', '128GB Flash Storage', 'Intel HD Graphics 6000', 'macOS', '1.34kg', '898'], ['3362737', 'HP', '250 G6', 'Notebook', '15.6', 'Full HD 1920x1080', 'Intel Core i5 7200U 2.5GHz', '8GB', '256GB SSD', 'Intel HD Graphics 620', 'No OS', '1.86kg', '575'], ['9722156', 'Apple', 'MacBook Pro', 'Ultrabook', '15.4', 'IPS Panel Retina Display 2880x1800', 'Intel Core i7 2.7GHz', '16GB', '512GB SSD', 'AMD Radeon Pro 455', 'macOS', '1.83kg', '2537'], ['8550527', 'Apple', 'MacBook Pro', 'Ultrabook', '13.3', 'IPS Panel Retina Display 2560x1600', 'Intel Core i5 3.1GHz', '8GB', '256GB SSD', 'Intel Iris Plus Graphics 650', 'macOS', '1.37kg', '1803']]\n"
     ]
    }
   ],
   "source": [
    "# open 'laptops.csv' file and convert to list of lists\n",
    "\n",
    "import csv\n",
    "\n",
    "with open('laptops.csv', encoding='utf8') as file:\n",
    "    convert_file_to_list = list(csv.reader(file))\n",
    "    header = convert_file_to_list[0]\n",
    "    rows = convert_file_to_list[1:]\n",
    "    print(header)\n",
    "    print('')\n",
    "    print(rows[1:5])\n",
    "    "
   ]
  },
  {
   "cell_type": "markdown",
   "metadata": {},
   "source": [
    "# Step 2: Create the Inventory Class"
   ]
  },
  {
   "cell_type": "code",
   "execution_count": 2,
   "metadata": {},
   "outputs": [
    {
     "name": "stdout",
     "output_type": "stream",
     "text": [
      "1303\n"
     ]
    }
   ],
   "source": [
    "# 1st version of Inventory class\n",
    "# implement the inventory class constructor\n",
    "# takes name of the CSV file as argument, then read rows\n",
    "\n",
    "class Inventory():\n",
    "    def __init__(self, csv_filename):\n",
    "        \n",
    "        # open file and convert to list of lists\n",
    "        with open(csv_filename, encoding='utf8') as file:\n",
    "            convert_file_to_list = list(csv.reader(file))\n",
    "            self.header = convert_file_to_list[0]\n",
    "            self.rows = convert_file_to_list[1:]\n",
    "            \n",
    "            # convert price column from string to integer\n",
    "            for row in self.rows:\n",
    "                row[12] = int(row[12])\n",
    "                \n",
    "# create instance/instantiate Inventory class object     \n",
    "test = Inventory('laptops.csv')\n",
    "print(len(test.rows))"
   ]
  },
  {
   "cell_type": "markdown",
   "metadata": {},
   "source": [
    "# Step 3: Update Inventory Class, 1st Update - Laptop ID Look-Up\n",
    " - Implement a method to find a laptop within the inventory by searching for the ID"
   ]
  },
  {
   "cell_type": "code",
   "execution_count": 3,
   "metadata": {},
   "outputs": [
    {
     "name": "stdout",
     "output_type": "stream",
     "text": [
      "['3362737', 'HP', '250 G6', 'Notebook', '15.6', 'Full HD 1920x1080', 'Intel Core i5 7200U 2.5GHz', '8GB', '256GB SSD', 'Intel HD Graphics 620', 'No OS', '1.86kg', 575]\n",
      "None\n"
     ]
    }
   ],
   "source": [
    "# 2nd version of Inventory class - add get_laptop_from_id() method\n",
    "# implement way to look up laptop from a given identifier\n",
    "# if customer comes to store with receipt, can find laptop with identifier code\n",
    "\n",
    "class Inventory():\n",
    "    def __init__(self, csv_filename):\n",
    "        \n",
    "        # open file and convert to list of lists\n",
    "        with open(csv_filename, encoding='utf8') as file:\n",
    "            convert_file_to_list = list(csv.reader(file))\n",
    "            self.header = convert_file_to_list[0]\n",
    "            self.rows = convert_file_to_list[1:]\n",
    "            \n",
    "            # convert price column from string to integer\n",
    "            for row in self.rows:\n",
    "                row[12] = int(row[12])\n",
    "                \n",
    "    # take a laptop id and return corresponding info if match found\n",
    "    def get_laptop_from_id(self, laptop_id):\n",
    "        for row in self.rows:\n",
    "            if row[0] == laptop_id:\n",
    "                return row\n",
    "\n",
    "test = Inventory('laptops.csv')\n",
    "print(test.get_laptop_from_id('3362737'))\n",
    "print(test.get_laptop_from_id('3362736'))"
   ]
  },
  {
   "cell_type": "markdown",
   "metadata": {},
   "source": [
    "# Step 4: Inventory Class, 2nd Update - ID Look-Up Method Time Complexity Improvement\n",
    " - add data pre-processing to improve the time complexity of the ID look-up method by playing data into a dictionary"
   ]
  },
  {
   "cell_type": "code",
   "execution_count": 4,
   "metadata": {},
   "outputs": [
    {
     "name": "stdout",
     "output_type": "stream",
     "text": [
      "['3362737', 'HP', '250 G6', 'Notebook', '15.6', 'Full HD 1920x1080', 'Intel Core i5 7200U 2.5GHz', '8GB', '256GB SSD', 'Intel HD Graphics 620', 'No OS', '1.86kg', 575]\n",
      "None\n"
     ]
    }
   ],
   "source": [
    "# 3rd version of Inventory class - add data pre-processing to __init__()\n",
    "# improve ID lookup function time complexity from O(R) to O(1) by\n",
    "# pre-processing data from list to dictionary\n",
    "# dictionary is chosen over set as need to also retrieve remaining row info\n",
    "\n",
    "class Inventory():\n",
    "    def __init__(self, csv_filename):\n",
    "        \n",
    "        # open file and convert to list of lists\n",
    "        with open(csv_filename, encoding='utf8') as file:\n",
    "            convert_file_to_list = list(csv.reader(file))\n",
    "            self.header = convert_file_to_list[0]\n",
    "            self.rows = convert_file_to_list[1:]\n",
    "            \n",
    "            # convert price column from string to integer\n",
    "            for row in self.rows:\n",
    "                row[12] = int(row[12])\n",
    "        \n",
    "        # pre-process data into dictionary\n",
    "        self.id_to_row = {}\n",
    "        for row in self.rows:\n",
    "            self.id_to_row[row[0]] = row\n",
    "                \n",
    "    # take a laptop id and return corresponding info if match found\n",
    "    def get_laptop_from_id(self, laptop_id):\n",
    "        for row in self.rows:\n",
    "            if row[0] == laptop_id:\n",
    "                return row\n",
    "    \n",
    "    # new faster search method   \n",
    "    def get_laptop_from_id_fast(self, laptop_id):\n",
    "        if laptop_id in self.id_to_row:\n",
    "            return self.id_to_row[laptop_id]\n",
    "\n",
    "test = Inventory('laptops.csv')\n",
    "print(test.get_laptop_from_id_fast('3362737'))\n",
    "print(test.get_laptop_from_id_fast('3362736'))"
   ]
  },
  {
   "cell_type": "markdown",
   "metadata": {},
   "source": [
    "# Step 5: Measure performance of the two ID look-up methods"
   ]
  },
  {
   "cell_type": "code",
   "execution_count": 5,
   "metadata": {},
   "outputs": [
    {
     "name": "stdout",
     "output_type": "stream",
     "text": [
      "0.9696218967437744\n",
      "0.004278898239135742\n"
     ]
    }
   ],
   "source": [
    "# measure execution times of get_laptop_from_id and get_laptop_from_id_fast \n",
    "\n",
    "import time, random\n",
    "\n",
    "# random list for execution time measurement of the methods \n",
    "ids = [str(random.randint(100000, 9999999)) for _ in range(10000)]\n",
    "\n",
    "test = Inventory('laptops.csv')\n",
    "\n",
    "# time measurement for method with no dictionary\n",
    "total_time_no_dict = 0\n",
    "for identifier in ids:\n",
    "    start = time.time()\n",
    "    test.get_laptop_from_id(identifier)\n",
    "    end = time.time()\n",
    "    total_time_no_dict += (end - start)\n",
    "    \n",
    "# time measurement for method with dictionary\n",
    "total_time_dict = 0\n",
    "for identifier in ids:\n",
    "    start = time.time()\n",
    "    test.get_laptop_from_id_fast(identifier)\n",
    "    end = time.time()\n",
    "    total_time_dict += (end - start)\n",
    "print(total_time_no_dict)\n",
    "print(total_time_dict)"
   ]
  },
  {
   "cell_type": "markdown",
   "metadata": {},
   "source": [
    "## ID Look-Up Performance Analysis of Both Methods\n",
    "First method time completion was: 0.9696218967437744\n",
    "Second updated time completion was: 0.004278898239135742\n",
    "\n",
    "Dividing the first method by the second shows that improving the time complexity of the method caused the performance of the method to run 226 times faster."
   ]
  },
  {
   "cell_type": "markdown",
   "metadata": {},
   "source": [
    "# Step 6: Inventory Class, 3rd Update - Laptop Promotion Look-Up\n",
    " - Create method that checks if the customer can buy one or two laptops given their budget"
   ]
  },
  {
   "cell_type": "code",
   "execution_count": 6,
   "metadata": {},
   "outputs": [
    {
     "name": "stdout",
     "output_type": "stream",
     "text": [
      "True\n",
      "False\n"
     ]
    }
   ],
   "source": [
    "# 3rd version of Inventory class - add check_promotion_dollars() method\n",
    "# Method, given dollar amount, checks if can purchase up to two laptops\n",
    "\n",
    "class Inventory():\n",
    "    def __init__(self, csv_filename):\n",
    "        \n",
    "        # open file and convert to list of lists\n",
    "        with open(csv_filename, encoding='utf8') as file:\n",
    "            convert_file_to_list = list(csv.reader(file))\n",
    "            self.header = convert_file_to_list[0]\n",
    "            self.rows = convert_file_to_list[1:]\n",
    "            \n",
    "            # convert price column from string to integer\n",
    "            for row in self.rows:\n",
    "                row[12] = int(row[12])\n",
    "        \n",
    "        # pre-process data into dictionary\n",
    "        self.id_to_row = {}\n",
    "        for row in self.rows:\n",
    "            self.id_to_row[row[0]] = row\n",
    "                \n",
    "    # take a laptop id and return corresponding info if match found\n",
    "    def get_laptop_from_id(self, laptop_id):\n",
    "        for row in self.rows:\n",
    "            if row[0] == laptop_id:\n",
    "                return row\n",
    "    \n",
    "    # new faster search method   \n",
    "    def get_laptop_from_id_fast(self, laptop_id):\n",
    "        if laptop_id in self.id_to_row:\n",
    "            return self.id_to_row[laptop_id]\n",
    "        \n",
    "    # method to check if can purchase up to two laptops, given dollar amount\n",
    "    def check_promotion_dollars(self, dollars):\n",
    "        for row in self.rows:\n",
    "            if row[12] == dollars:\n",
    "                return True\n",
    "        \n",
    "        for row_1 in self.rows:\n",
    "            for row_2 in self.rows:\n",
    "                if (row_1[12] + row_2[12]) == dollars:\n",
    "                    return True\n",
    "        return False"
   ]
  },
  {
   "cell_type": "markdown",
   "metadata": {},
   "source": [
    "## Testing the laptop promotion look-up method"
   ]
  },
  {
   "cell_type": "code",
   "execution_count": null,
   "metadata": {},
   "outputs": [],
   "source": [
    "test = Inventory('laptops.csv')\n",
    "print(test.check_promotion_dollars(1000))\n",
    "print(test.check_promotion_dollars(442))"
   ]
  },
  {
   "cell_type": "markdown",
   "metadata": {},
   "source": [
    "# Step 7: Inventory Class, 4th Update - Laptop Promotion Look-Up Method Time Complexity Improvement"
   ]
  },
  {
   "cell_type": "code",
   "execution_count": 7,
   "metadata": {},
   "outputs": [
    {
     "name": "stdout",
     "output_type": "stream",
     "text": [
      "True\n",
      "False\n"
     ]
    }
   ],
   "source": [
    "# 4th version of Inventory class - add faster check_promotion_dollars method\n",
    "\n",
    "class Inventory():\n",
    "    def __init__(self, csv_filename):\n",
    "        \n",
    "        # open file and convert to list of lists\n",
    "        with open(csv_filename, encoding='utf8') as file:\n",
    "            convert_file_to_list = list(csv.reader(file))\n",
    "            self.header = convert_file_to_list[0]\n",
    "            self.rows = convert_file_to_list[1:]\n",
    "            \n",
    "            # convert price column from string to integer\n",
    "            for row in self.rows:\n",
    "                row[12] = int(row[12])\n",
    "        \n",
    "        # pre-process laptop ID data into dictionary\n",
    "        self.id_to_row = {}\n",
    "        for row in self.rows:\n",
    "            self.id_to_row[row[0]] = row\n",
    "            \n",
    "        # pre-process laptop pricing data into set\n",
    "        self.prices = set()\n",
    "        for row in self.rows:\n",
    "            self.prices.add(row[12])\n",
    "                \n",
    "    # take a laptop id and return corresponding info if match found\n",
    "    def get_laptop_from_id(self, laptop_id):\n",
    "        for row in self.rows:\n",
    "            if row[0] == laptop_id:\n",
    "                return row\n",
    "    \n",
    "    # new faster search method   \n",
    "    def get_laptop_from_id_fast(self, laptop_id):\n",
    "        if laptop_id in self.id_to_row:\n",
    "            return self.id_to_row[laptop_id]\n",
    "        \n",
    "    # method to check if can purchase up to two laptops, given dollar amount\n",
    "    def check_promotion_dollars(self, dollars):\n",
    "        for row in self.rows:\n",
    "            if row[12] == dollars:\n",
    "                return True\n",
    "        \n",
    "        for row_1 in self.rows:\n",
    "            for row_2 in self.rows:\n",
    "                if (row_1[12] + row_2[12]) == dollars:\n",
    "                    return True\n",
    "        return False\n",
    "    \n",
    "    # new faster search method with pre-processed pricing data\n",
    "    def check_promotion_dollars_fast(self, dollars):\n",
    "        if dollars in self.prices:\n",
    "            return True\n",
    "        for price_1 in self.prices:\n",
    "            for price_2 in self.prices:\n",
    "                if (price_1 + price_2) == dollars:\n",
    "                    return True\n",
    "        return False"
   ]
  },
  {
   "cell_type": "markdown",
   "metadata": {},
   "source": [
    "## Testing the improved laptop promotion look-up method"
   ]
  },
  {
   "cell_type": "code",
   "execution_count": null,
   "metadata": {},
   "outputs": [],
   "source": [
    "test = Inventory('laptops.csv')\n",
    "\n",
    "print(test.check_promotion_dollars_fast(1000))\n",
    "print(test.check_promotion_dollars_fast(442))"
   ]
  },
  {
   "cell_type": "markdown",
   "metadata": {},
   "source": [
    "# Step 8: Measure performance of the two laptop promotion look-up methods"
   ]
  },
  {
   "cell_type": "code",
   "execution_count": 29,
   "metadata": {},
   "outputs": [
    {
     "name": "stdout",
     "output_type": "stream",
     "text": [
      "22.33216381072998\n",
      "4.950788974761963\n"
     ]
    }
   ],
   "source": [
    "# measure execution times of check_promotion_dollars and\n",
    "# check_promotion_dollars_fast\n",
    "\n",
    "# create list with 100 random values between 100 and 5,000\n",
    "prices = [str(random.randint(100, 5000)) for _ in range(100)]\n",
    "test = Inventory('laptops.csv')\n",
    "\n",
    "# check execution time of check_promotion_dollars\n",
    "total_time_no_set = 0\n",
    "for price in prices:\n",
    "    start = time.time()\n",
    "    test.check_promotion_dollars(price)\n",
    "    end = time.time()\n",
    "    total_time_no_set += (end - start)\n",
    "    \n",
    "# check execution time of check_promotion_dollars_fast\n",
    "total_time_set = 0\n",
    "for price in prices:\n",
    "    start = time.time()\n",
    "    test.check_promotion_dollars_fast(price)\n",
    "    end = time.time()\n",
    "    total_time_set += (end - start)\n",
    "\n",
    "print(total_time_no_set)\n",
    "print(total_time_set)"
   ]
  },
  {
   "cell_type": "markdown",
   "metadata": {},
   "source": [
    "## Laptop Promotion Look-Up Performance Analysis of Both Methods\n",
    "First method time completion was: 22.33216381072998\n",
    "Second updated time completion was: 4.950788974761963\n",
    "\n",
    "Dividing the first method by the second shows that improving the time complexity of the method caused the performance of the method to run 4.5 times faster."
   ]
  },
  {
   "cell_type": "markdown",
   "metadata": {},
   "source": [
    "# Final Step - Putting it All Together\n",
    "# Step 9: Inventory Class, 5th Update - Finding Laptops within Customer Budget\n",
    "1. add sorting of Inventory rows by laptop price when instantiating an Inventory class object\n",
    "2. add binary search method\n",
    "3. add another binary search method with improved time complexity"
   ]
  },
  {
   "cell_type": "code",
   "execution_count": 28,
   "metadata": {},
   "outputs": [],
   "source": [
    "# 5th version of Inventory class\n",
    "# help customer find all laptops given budget of D dollars\n",
    "# in other words, write method to answer query: Given budget, find all laptops\n",
    "\n",
    "# sort all laptops by price to then use binary search to find\n",
    "# first laptop in the sorted list with a price larger than D\n",
    "\n",
    "class Inventory():\n",
    "    def __init__(self, csv_filename):\n",
    "        \n",
    "        # open file and convert to list of lists\n",
    "        with open(csv_filename, encoding='utf8') as file:\n",
    "            convert_file_to_list = list(csv.reader(file))\n",
    "            self.header = convert_file_to_list[0]\n",
    "            self.rows = convert_file_to_list[1:]\n",
    "            \n",
    "            # convert price column from string to integer\n",
    "            for row in self.rows:\n",
    "                row[12] = int(row[12])\n",
    "        \n",
    "        # pre-process laptop ID data into dictionary\n",
    "        self.id_to_row = {}\n",
    "        for row in self.rows:\n",
    "            self.id_to_row[row[0]] = row\n",
    "            \n",
    "        # pre-process laptop pricing data into set\n",
    "        self.prices = set()\n",
    "        for row in self.rows:\n",
    "            self.prices.add(row[-1])\n",
    "            \n",
    "        # sort self.rows by price\n",
    "        self.rows_by_price = sorted(self.rows, key=row_price)\n",
    "                \n",
    "    # take a laptop id and return corresponding info if match found\n",
    "    def get_laptop_from_id(self, laptop_id):\n",
    "        for row in self.rows:\n",
    "            if row[0] == laptop_id:\n",
    "                return row\n",
    "        return None\n",
    "    \n",
    "    # new faster search method   \n",
    "    def get_laptop_from_id_fast(self, laptop_id):\n",
    "        if laptop_id in self.id_to_row:\n",
    "            return self.id_to_row[laptop_id]\n",
    "        return None\n",
    "        \n",
    "    # method to check if can purchase up to two laptops, given dollar amount\n",
    "    def check_promotion_dollars(self, dollars):\n",
    "        for row in self.rows:\n",
    "            if row[12] == dollars:\n",
    "                return True\n",
    "        \n",
    "        for row_1 in self.rows:\n",
    "            for row_2 in self.rows:\n",
    "                if (row_1[12] + row_2[12]) == dollars:\n",
    "                    return True\n",
    "        return False\n",
    "    \n",
    "    # new faster search method with pre-processed pricing data\n",
    "    def check_promotion_dollars_fast(self, dollars):\n",
    "        if dollars in self.prices:\n",
    "            return True\n",
    "        for price in self.prices:\n",
    "            if dollars - price in self.prices:\n",
    "                return True\n",
    "        return False\n",
    "    \n",
    "    # given binary search algorithm\n",
    "    def find_laptop_with_price(self, target_price):\n",
    "    range_start = 0                                   \n",
    "    range_end = len(self.rows_by_price) - 1                       \n",
    "    while range_start < range_end:\n",
    "        range_middle = (range_end + range_start) // 2  \n",
    "        price = self.rows_by_price[range_middle][-1]\n",
    "        if price == target_price:                            \n",
    "            return range_middle                        \n",
    "        elif value < target_value:                           \n",
    "            range_start = range_middle + 1             \n",
    "        else:                                          \n",
    "            range_end = range_middle - 1 \n",
    "    price = self.rows_by_price[range_start][-1]\n",
    "    if price != target_price:                  \n",
    "        return -1                                      \n",
    "    return range_start\n",
    "    \n",
    "    # altered binary search algorithm\n",
    "    def find_first_laptop_more_expensive(self, target_price):\n",
    "        range_start = 0\n",
    "        range_end = len(self.rows_by_price) - 1 # subtracting by one is necessary because range begins at 0\n",
    "        \n",
    "        while range_start < range_end:\n",
    "            range_middle = (range_end + range_start) // 2\n",
    "            price = self.rows_by_price[range_middle][-1]\n",
    "            \n",
    "            if price > target_price:\n",
    "                range_end = range_middle\n",
    "            \n",
    "            else:\n",
    "                range_start = range_middle + 1 # adding one is necessary to get just one higher index of target price index\n",
    "        \n",
    "        \"\"\"if target price (budget) is higher than all laptop prices, range start will continuously\n",
    "        increase until greater than range end, ending the while loop. range start will still be\n",
    "        lower than target price, thus returning -1, meaning all laptops are within budget\"\"\"\n",
    "        if self.rows_by_price[range_start][-1] <= target_price\n",
    "            return -1\n",
    "        \n",
    "        return range_start"
   ]
  },
  {
   "cell_type": "markdown",
   "metadata": {},
   "source": [
    "## Testing the laptops within budget look-up method"
   ]
  },
  {
   "cell_type": "code",
   "execution_count": null,
   "metadata": {},
   "outputs": [],
   "source": [
    "test = Inventory('laptops.csv')\n",
    "\n",
    "print(test.find_first_laptop_more_expensive(1000))\n",
    "print(test.find_first_laptop_more_expensive(10000))"
   ]
  },
  {
   "cell_type": "markdown",
   "metadata": {},
   "source": [
    "# Conclusion\n",
    "\n",
    "In this project, three functionalities were created:\n",
    "1. Looking up laptops by their ID number\n",
    "2. Seeing how many laptops a customer could afford given their budget\n",
    "3. Determining the highest priced laptop at which the customer could not afford; determining all of the laptops within the customer's budget\n",
    "\n",
    "The three built-in Python modules used were: csv, time, and random\n",
    "\n",
    "In this project, data pre-processing was used to significantly improve the time efficiency of the methods."
   ]
  }
 ],
 "metadata": {
  "kernelspec": {
   "display_name": "Python 3",
   "language": "python",
   "name": "python3"
  },
  "language_info": {
   "codemirror_mode": {
    "name": "ipython",
    "version": 3
   },
   "file_extension": ".py",
   "mimetype": "text/x-python",
   "name": "python",
   "nbconvert_exporter": "python",
   "pygments_lexer": "ipython3",
   "version": "3.8.2"
  }
 },
 "nbformat": 4,
 "nbformat_minor": 2
}
